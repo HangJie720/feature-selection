{
 "cells": [
  {
   "cell_type": "markdown",
   "metadata": {},
   "source": [
    "# Representing Data with EntitySets"
   ]
  },
  {
   "cell_type": "code",
   "execution_count": 1,
   "metadata": {},
   "outputs": [],
   "source": [
    "import featuretools as ft"
   ]
  },
  {
   "cell_type": "markdown",
   "metadata": {},
   "source": [
    "An `EntitySet` is a collection of entities and the relationships between them.   \n",
    "They are useful for preparing raw, structured datasets for feature engineering. While many functions in Featuretools take `entities` and `relationships` as separate arguments, it is recommended to create an `EntitySet`, so you can more easily manipulate your data as needed.\n",
    "\n",
    "**`EntitySet`**\n",
    "- Entities\n",
    "- Relationships"
   ]
  },
  {
   "cell_type": "markdown",
   "metadata": {},
   "source": [
    "### Raw Data"
   ]
  },
  {
   "cell_type": "code",
   "execution_count": 62,
   "metadata": {},
   "outputs": [],
   "source": [
    "data = ft.demo.load_mock_customer()\n",
    "customers_df = data['customers']\n",
    "sessions_df = data['sessions']\n",
    "transactions_df = data['transactions']\n",
    "products_df = data['products']"
   ]
  },
  {
   "cell_type": "code",
   "execution_count": 63,
   "metadata": {},
   "outputs": [],
   "source": [
    "# create the original dataframe for the examples \n",
    "transactions_df = transactions_df\\\n",
    "    .merge(sessions_df, on = 'session_id')\\\n",
    "    .merge(customers_df, on = 'customer_id')\\\n",
    "    .drop(columns = ['session_start', 'join_date'])"
   ]
  },
  {
   "cell_type": "code",
   "execution_count": 64,
   "metadata": {},
   "outputs": [
    {
     "data": {
      "text/html": [
       "<div>\n",
       "<style scoped>\n",
       "    .dataframe tbody tr th:only-of-type {\n",
       "        vertical-align: middle;\n",
       "    }\n",
       "\n",
       "    .dataframe tbody tr th {\n",
       "        vertical-align: top;\n",
       "    }\n",
       "\n",
       "    .dataframe thead th {\n",
       "        text-align: right;\n",
       "    }\n",
       "</style>\n",
       "<table border=\"1\" class=\"dataframe\">\n",
       "  <thead>\n",
       "    <tr style=\"text-align: right;\">\n",
       "      <th></th>\n",
       "      <th>transaction_id</th>\n",
       "      <th>session_id</th>\n",
       "      <th>transaction_time</th>\n",
       "      <th>product_id</th>\n",
       "      <th>amount</th>\n",
       "      <th>customer_id</th>\n",
       "      <th>device</th>\n",
       "      <th>zip_code</th>\n",
       "    </tr>\n",
       "  </thead>\n",
       "  <tbody>\n",
       "    <tr>\n",
       "      <th>194</th>\n",
       "      <td>495</td>\n",
       "      <td>4</td>\n",
       "      <td>2014-01-01 00:48:45</td>\n",
       "      <td>4</td>\n",
       "      <td>90.69</td>\n",
       "      <td>3</td>\n",
       "      <td>mobile</td>\n",
       "      <td>02139</td>\n",
       "    </tr>\n",
       "    <tr>\n",
       "      <th>326</th>\n",
       "      <td>157</td>\n",
       "      <td>19</td>\n",
       "      <td>2014-01-01 04:30:50</td>\n",
       "      <td>1</td>\n",
       "      <td>110.87</td>\n",
       "      <td>2</td>\n",
       "      <td>tablet</td>\n",
       "      <td>02139</td>\n",
       "    </tr>\n",
       "    <tr>\n",
       "      <th>443</th>\n",
       "      <td>465</td>\n",
       "      <td>21</td>\n",
       "      <td>2014-01-01 05:07:40</td>\n",
       "      <td>1</td>\n",
       "      <td>54.66</td>\n",
       "      <td>4</td>\n",
       "      <td>desktop</td>\n",
       "      <td>60091</td>\n",
       "    </tr>\n",
       "    <tr>\n",
       "      <th>211</th>\n",
       "      <td>91</td>\n",
       "      <td>4</td>\n",
       "      <td>2014-01-01 01:07:10</td>\n",
       "      <td>2</td>\n",
       "      <td>143.93</td>\n",
       "      <td>3</td>\n",
       "      <td>mobile</td>\n",
       "      <td>02139</td>\n",
       "    </tr>\n",
       "    <tr>\n",
       "      <th>280</th>\n",
       "      <td>225</td>\n",
       "      <td>7</td>\n",
       "      <td>2014-01-01 01:42:55</td>\n",
       "      <td>3</td>\n",
       "      <td>71.53</td>\n",
       "      <td>2</td>\n",
       "      <td>desktop</td>\n",
       "      <td>02139</td>\n",
       "    </tr>\n",
       "    <tr>\n",
       "      <th>460</th>\n",
       "      <td>7</td>\n",
       "      <td>22</td>\n",
       "      <td>2014-01-01 05:26:05</td>\n",
       "      <td>3</td>\n",
       "      <td>83.33</td>\n",
       "      <td>4</td>\n",
       "      <td>tablet</td>\n",
       "      <td>60091</td>\n",
       "    </tr>\n",
       "    <tr>\n",
       "      <th>19</th>\n",
       "      <td>85</td>\n",
       "      <td>2</td>\n",
       "      <td>2014-01-01 00:20:35</td>\n",
       "      <td>4</td>\n",
       "      <td>148.14</td>\n",
       "      <td>1</td>\n",
       "      <td>desktop</td>\n",
       "      <td>60091</td>\n",
       "    </tr>\n",
       "    <tr>\n",
       "      <th>265</th>\n",
       "      <td>438</td>\n",
       "      <td>34</td>\n",
       "      <td>2014-01-01 08:43:15</td>\n",
       "      <td>4</td>\n",
       "      <td>100.04</td>\n",
       "      <td>3</td>\n",
       "      <td>desktop</td>\n",
       "      <td>02139</td>\n",
       "    </tr>\n",
       "    <tr>\n",
       "      <th>146</th>\n",
       "      <td>462</td>\n",
       "      <td>11</td>\n",
       "      <td>2014-01-01 02:49:00</td>\n",
       "      <td>1</td>\n",
       "      <td>27.46</td>\n",
       "      <td>5</td>\n",
       "      <td>tablet</td>\n",
       "      <td>02139</td>\n",
       "    </tr>\n",
       "    <tr>\n",
       "      <th>104</th>\n",
       "      <td>379</td>\n",
       "      <td>27</td>\n",
       "      <td>2014-01-01 06:40:50</td>\n",
       "      <td>4</td>\n",
       "      <td>131.83</td>\n",
       "      <td>1</td>\n",
       "      <td>desktop</td>\n",
       "      <td>60091</td>\n",
       "    </tr>\n",
       "  </tbody>\n",
       "</table>\n",
       "</div>"
      ],
      "text/plain": [
       "     transaction_id  session_id    transaction_time product_id  amount  \\\n",
       "194             495           4 2014-01-01 00:48:45          4   90.69   \n",
       "326             157          19 2014-01-01 04:30:50          1  110.87   \n",
       "443             465          21 2014-01-01 05:07:40          1   54.66   \n",
       "211              91           4 2014-01-01 01:07:10          2  143.93   \n",
       "280             225           7 2014-01-01 01:42:55          3   71.53   \n",
       "460               7          22 2014-01-01 05:26:05          3   83.33   \n",
       "19               85           2 2014-01-01 00:20:35          4  148.14   \n",
       "265             438          34 2014-01-01 08:43:15          4  100.04   \n",
       "146             462          11 2014-01-01 02:49:00          1   27.46   \n",
       "104             379          27 2014-01-01 06:40:50          4  131.83   \n",
       "\n",
       "     customer_id   device zip_code  \n",
       "194            3   mobile    02139  \n",
       "326            2   tablet    02139  \n",
       "443            4  desktop    60091  \n",
       "211            3   mobile    02139  \n",
       "280            2  desktop    02139  \n",
       "460            4   tablet    60091  \n",
       "19             1  desktop    60091  \n",
       "265            3  desktop    02139  \n",
       "146            5   tablet    02139  \n",
       "104            1  desktop    60091  "
      ]
     },
     "execution_count": 64,
     "metadata": {},
     "output_type": "execute_result"
    }
   ],
   "source": [
    "# show some entries of the data to be used \n",
    "# transactions & products\n",
    "transactions_df.sample(10)"
   ]
  },
  {
   "cell_type": "code",
   "execution_count": 15,
   "metadata": {},
   "outputs": [
    {
     "data": {
      "text/html": [
       "<div>\n",
       "<style scoped>\n",
       "    .dataframe tbody tr th:only-of-type {\n",
       "        vertical-align: middle;\n",
       "    }\n",
       "\n",
       "    .dataframe tbody tr th {\n",
       "        vertical-align: top;\n",
       "    }\n",
       "\n",
       "    .dataframe thead th {\n",
       "        text-align: right;\n",
       "    }\n",
       "</style>\n",
       "<table border=\"1\" class=\"dataframe\">\n",
       "  <thead>\n",
       "    <tr style=\"text-align: right;\">\n",
       "      <th></th>\n",
       "      <th>product_id</th>\n",
       "      <th>brand</th>\n",
       "    </tr>\n",
       "  </thead>\n",
       "  <tbody>\n",
       "    <tr>\n",
       "      <th>0</th>\n",
       "      <td>1</td>\n",
       "      <td>B</td>\n",
       "    </tr>\n",
       "    <tr>\n",
       "      <th>1</th>\n",
       "      <td>2</td>\n",
       "      <td>B</td>\n",
       "    </tr>\n",
       "    <tr>\n",
       "      <th>2</th>\n",
       "      <td>3</td>\n",
       "      <td>C</td>\n",
       "    </tr>\n",
       "    <tr>\n",
       "      <th>3</th>\n",
       "      <td>4</td>\n",
       "      <td>A</td>\n",
       "    </tr>\n",
       "    <tr>\n",
       "      <th>4</th>\n",
       "      <td>5</td>\n",
       "      <td>C</td>\n",
       "    </tr>\n",
       "  </tbody>\n",
       "</table>\n",
       "</div>"
      ],
      "text/plain": [
       "  product_id brand\n",
       "0          1     B\n",
       "1          2     B\n",
       "2          3     C\n",
       "3          4     A\n",
       "4          5     C"
      ]
     },
     "execution_count": 15,
     "metadata": {},
     "output_type": "execute_result"
    }
   ],
   "source": [
    "products_df"
   ]
  },
  {
   "cell_type": "markdown",
   "metadata": {},
   "source": [
    "## Creating EntitySet\n",
    "\n",
    "First : initialize the `EntitySet` and gives it an `id`"
   ]
  },
  {
   "cell_type": "code",
   "execution_count": 98,
   "metadata": {},
   "outputs": [],
   "source": [
    "es = ft.EntitySet(id = 'transactions')"
   ]
  },
  {
   "cell_type": "markdown",
   "metadata": {},
   "source": [
    "## Adding Entites"
   ]
  },
  {
   "cell_type": "markdown",
   "metadata": {},
   "source": [
    "`.entity_from_dataframe()`\n",
    "- `index` : specifies the column that uniquely identifies rows in the dataframe\n",
    "- `time_index` : tells Featuretools when the data was created.\n",
    "- `variable_types` : indicates that “product_id” should be interpreted as a Categorical variable, even though it just an integer in the underlying data.\n"
   ]
  },
  {
   "cell_type": "code",
   "execution_count": 99,
   "metadata": {},
   "outputs": [
    {
     "data": {
      "text/plain": [
       "Entityset: transactions\n",
       "  Entities:\n",
       "    transactions [Rows: 500, Columns: 8]\n",
       "  Relationships:\n",
       "    No relationships"
      ]
     },
     "execution_count": 99,
     "metadata": {},
     "output_type": "execute_result"
    }
   ],
   "source": [
    "es = es.entity_from_dataframe(entity_id=\"transactions\",\n",
    "                              dataframe=transactions_df,\n",
    "                              index=\"transaction_id\",\n",
    "                              time_index=\"transaction_time\",\n",
    "                              variable_types={\"product_id\": ft.variable_types.Categorical})\n",
    "es"
   ]
  },
  {
   "cell_type": "code",
   "execution_count": 100,
   "metadata": {},
   "outputs": [
    {
     "data": {
      "text/plain": [
       "[<Variable: transaction_id (dtype = index)>,\n",
       " <Variable: session_id (dtype = numeric)>,\n",
       " <Variable: transaction_time (dtype: datetime_time_index, format: None)>,\n",
       " <Variable: amount (dtype = numeric)>,\n",
       " <Variable: customer_id (dtype = numeric)>,\n",
       " <Variable: device (dtype = categorical)>,\n",
       " <Variable: zip_code (dtype = categorical)>,\n",
       " <Variable: product_id (dtype = categorical)>]"
      ]
     },
     "execution_count": 100,
     "metadata": {},
     "output_type": "execute_result"
    }
   ],
   "source": [
    "es[\"transactions\"].variables"
   ]
  },
  {
   "cell_type": "code",
   "execution_count": 101,
   "metadata": {},
   "outputs": [
    {
     "data": {
      "text/plain": [
       "Entityset: transactions\n",
       "  Entities:\n",
       "    transactions [Rows: 500, Columns: 8]\n",
       "    products [Rows: 5, Columns: 2]\n",
       "  Relationships:\n",
       "    No relationships"
      ]
     },
     "execution_count": 101,
     "metadata": {},
     "output_type": "execute_result"
    }
   ],
   "source": [
    "es = es.entity_from_dataframe(entity_id=\"products\",\n",
    "                              dataframe=products_df,\n",
    "                              index=\"product_id\")\n",
    "\n",
    "es"
   ]
  },
  {
   "cell_type": "markdown",
   "metadata": {},
   "source": [
    "## Adding a relationship\n",
    "\n",
    "We want to relate these two entities by the columns called “product_id” in each entity. \n",
    "\n",
    "Relationship:\n",
    "- *product* : **parent entity** (each product has multiple transactions associated with it)\n",
    "- *transactions* : **child entity** \n",
    "\n",
    "When specifying relationships we list the variable in the parent entity first. Note that each `ft.Relationship` **must denote a one-to-many** relationship rather than a relationship which is one-to-one or many-to-many."
   ]
  },
  {
   "cell_type": "code",
   "execution_count": 102,
   "metadata": {},
   "outputs": [
    {
     "data": {
      "text/plain": [
       "Entityset: transactions\n",
       "  Entities:\n",
       "    transactions [Rows: 500, Columns: 8]\n",
       "    products [Rows: 5, Columns: 2]\n",
       "  Relationships:\n",
       "    transactions.product_id -> products.product_id"
      ]
     },
     "execution_count": 102,
     "metadata": {},
     "output_type": "execute_result"
    }
   ],
   "source": [
    "new_relationship = ft.Relationship(es['products']['product_id'],\n",
    "                                  es['transactions']['product_id'])\n",
    "es.add_relationship(new_relationship)\n"
   ]
  },
  {
   "cell_type": "markdown",
   "metadata": {},
   "source": [
    "## Creating entity from existing table\n",
    "In order to create a new entity and relationship for sessions, we “normalize” the transaction entity."
   ]
  },
  {
   "cell_type": "markdown",
   "metadata": {},
   "source": [
    "Two operations were performed:\n",
    "- It created a new entity called “sessions” based on the “session_id” variable in “transactions”\n",
    "- It added a relationship connecting “transactions” and “sessions”."
   ]
  },
  {
   "cell_type": "code",
   "execution_count": 103,
   "metadata": {},
   "outputs": [
    {
     "data": {
      "text/plain": [
       "Entityset: transactions\n",
       "  Entities:\n",
       "    transactions [Rows: 500, Columns: 5]\n",
       "    products [Rows: 5, Columns: 2]\n",
       "    sessions [Rows: 35, Columns: 5]\n",
       "  Relationships:\n",
       "    transactions.product_id -> products.product_id\n",
       "    transactions.session_id -> sessions.session_id"
      ]
     },
     "execution_count": 103,
     "metadata": {},
     "output_type": "execute_result"
    }
   ],
   "source": [
    "es.normalize_entity(base_entity_id=\"transactions\",\n",
    "                    new_entity_id=\"sessions\",\n",
    "                    index=\"session_id\",\n",
    "                    additional_variables=[\"device\", \"customer_id\", \"zip_code\"])"
   ]
  },
  {
   "cell_type": "markdown",
   "metadata": {},
   "source": [
    "--- \n",
    "\n",
    "Two more operations were performed:\n",
    "- It removed “device”, “customer_id”, and “zip_code” from “transactions” and created a new variables in the sessions entity. This reduces redundant information as the those properties of a session don’t change between transactions.\n",
    "- It created the “first_transactions_time” variable in the new sessions entity to indicate the beginning of a session. If we don’t want this variable to be created, we can set `make_time_index=False`."
   ]
  },
  {
   "cell_type": "code",
   "execution_count": 104,
   "metadata": {},
   "outputs": [
    {
     "data": {
      "text/plain": [
       "[<Variable: transaction_id (dtype = index)>,\n",
       " <Variable: session_id (dtype = id)>,\n",
       " <Variable: transaction_time (dtype: datetime_time_index, format: None)>,\n",
       " <Variable: amount (dtype = numeric)>,\n",
       " <Variable: product_id (dtype = categorical)>]"
      ]
     },
     "execution_count": 104,
     "metadata": {},
     "output_type": "execute_result"
    }
   ],
   "source": [
    "es['transactions'].variables"
   ]
  },
  {
   "cell_type": "code",
   "execution_count": 105,
   "metadata": {},
   "outputs": [
    {
     "data": {
      "text/plain": [
       "[<Variable: session_id (dtype = index)>,\n",
       " <Variable: device (dtype = categorical)>,\n",
       " <Variable: customer_id (dtype = numeric)>,\n",
       " <Variable: zip_code (dtype = categorical)>,\n",
       " <Variable: first_transactions_time (dtype: datetime_time_index, format: None)>]"
      ]
     },
     "execution_count": 105,
     "metadata": {},
     "output_type": "execute_result"
    }
   ],
   "source": [
    "es['sessions'].variables"
   ]
  },
  {
   "cell_type": "markdown",
   "metadata": {},
   "source": [
    "### Check the dataframes"
   ]
  },
  {
   "cell_type": "code",
   "execution_count": 106,
   "metadata": {},
   "outputs": [
    {
     "data": {
      "text/html": [
       "<div>\n",
       "<style scoped>\n",
       "    .dataframe tbody tr th:only-of-type {\n",
       "        vertical-align: middle;\n",
       "    }\n",
       "\n",
       "    .dataframe tbody tr th {\n",
       "        vertical-align: top;\n",
       "    }\n",
       "\n",
       "    .dataframe thead th {\n",
       "        text-align: right;\n",
       "    }\n",
       "</style>\n",
       "<table border=\"1\" class=\"dataframe\">\n",
       "  <thead>\n",
       "    <tr style=\"text-align: right;\">\n",
       "      <th></th>\n",
       "      <th>transaction_id</th>\n",
       "      <th>session_id</th>\n",
       "      <th>transaction_time</th>\n",
       "      <th>amount</th>\n",
       "      <th>product_id</th>\n",
       "    </tr>\n",
       "  </thead>\n",
       "  <tbody>\n",
       "    <tr>\n",
       "      <th>352</th>\n",
       "      <td>352</td>\n",
       "      <td>1</td>\n",
       "      <td>2014-01-01 00:00:00</td>\n",
       "      <td>7.39</td>\n",
       "      <td>4</td>\n",
       "    </tr>\n",
       "    <tr>\n",
       "      <th>186</th>\n",
       "      <td>186</td>\n",
       "      <td>1</td>\n",
       "      <td>2014-01-01 00:01:05</td>\n",
       "      <td>147.23</td>\n",
       "      <td>4</td>\n",
       "    </tr>\n",
       "    <tr>\n",
       "      <th>319</th>\n",
       "      <td>319</td>\n",
       "      <td>1</td>\n",
       "      <td>2014-01-01 00:02:10</td>\n",
       "      <td>111.34</td>\n",
       "      <td>2</td>\n",
       "    </tr>\n",
       "    <tr>\n",
       "      <th>256</th>\n",
       "      <td>256</td>\n",
       "      <td>1</td>\n",
       "      <td>2014-01-01 00:03:15</td>\n",
       "      <td>78.15</td>\n",
       "      <td>4</td>\n",
       "    </tr>\n",
       "    <tr>\n",
       "      <th>449</th>\n",
       "      <td>449</td>\n",
       "      <td>1</td>\n",
       "      <td>2014-01-01 00:04:20</td>\n",
       "      <td>33.93</td>\n",
       "      <td>3</td>\n",
       "    </tr>\n",
       "  </tbody>\n",
       "</table>\n",
       "</div>"
      ],
      "text/plain": [
       "     transaction_id  session_id    transaction_time  amount  product_id\n",
       "352             352           1 2014-01-01 00:00:00    7.39           4\n",
       "186             186           1 2014-01-01 00:01:05  147.23           4\n",
       "319             319           1 2014-01-01 00:02:10  111.34           2\n",
       "256             256           1 2014-01-01 00:03:15   78.15           4\n",
       "449             449           1 2014-01-01 00:04:20   33.93           3"
      ]
     },
     "execution_count": 106,
     "metadata": {},
     "output_type": "execute_result"
    }
   ],
   "source": [
    "es['transactions'].df.head(5)"
   ]
  },
  {
   "cell_type": "code",
   "execution_count": 107,
   "metadata": {},
   "outputs": [
    {
     "data": {
      "text/html": [
       "<div>\n",
       "<style scoped>\n",
       "    .dataframe tbody tr th:only-of-type {\n",
       "        vertical-align: middle;\n",
       "    }\n",
       "\n",
       "    .dataframe tbody tr th {\n",
       "        vertical-align: top;\n",
       "    }\n",
       "\n",
       "    .dataframe thead th {\n",
       "        text-align: right;\n",
       "    }\n",
       "</style>\n",
       "<table border=\"1\" class=\"dataframe\">\n",
       "  <thead>\n",
       "    <tr style=\"text-align: right;\">\n",
       "      <th></th>\n",
       "      <th>session_id</th>\n",
       "      <th>device</th>\n",
       "      <th>customer_id</th>\n",
       "      <th>zip_code</th>\n",
       "      <th>first_transactions_time</th>\n",
       "    </tr>\n",
       "  </thead>\n",
       "  <tbody>\n",
       "    <tr>\n",
       "      <th>1</th>\n",
       "      <td>1</td>\n",
       "      <td>desktop</td>\n",
       "      <td>1</td>\n",
       "      <td>60091</td>\n",
       "      <td>2014-01-01 00:00:00</td>\n",
       "    </tr>\n",
       "    <tr>\n",
       "      <th>2</th>\n",
       "      <td>2</td>\n",
       "      <td>desktop</td>\n",
       "      <td>1</td>\n",
       "      <td>60091</td>\n",
       "      <td>2014-01-01 00:17:20</td>\n",
       "    </tr>\n",
       "    <tr>\n",
       "      <th>3</th>\n",
       "      <td>3</td>\n",
       "      <td>mobile</td>\n",
       "      <td>5</td>\n",
       "      <td>02139</td>\n",
       "      <td>2014-01-01 00:28:10</td>\n",
       "    </tr>\n",
       "    <tr>\n",
       "      <th>4</th>\n",
       "      <td>4</td>\n",
       "      <td>mobile</td>\n",
       "      <td>3</td>\n",
       "      <td>02139</td>\n",
       "      <td>2014-01-01 00:43:20</td>\n",
       "    </tr>\n",
       "    <tr>\n",
       "      <th>5</th>\n",
       "      <td>5</td>\n",
       "      <td>tablet</td>\n",
       "      <td>2</td>\n",
       "      <td>02139</td>\n",
       "      <td>2014-01-01 01:10:25</td>\n",
       "    </tr>\n",
       "  </tbody>\n",
       "</table>\n",
       "</div>"
      ],
      "text/plain": [
       "   session_id   device  customer_id zip_code first_transactions_time\n",
       "1           1  desktop            1    60091     2014-01-01 00:00:00\n",
       "2           2  desktop            1    60091     2014-01-01 00:17:20\n",
       "3           3   mobile            5    02139     2014-01-01 00:28:10\n",
       "4           4   mobile            3    02139     2014-01-01 00:43:20\n",
       "5           5   tablet            2    02139     2014-01-01 01:10:25"
      ]
     },
     "execution_count": 107,
     "metadata": {},
     "output_type": "execute_result"
    }
   ],
   "source": [
    "es['sessions'].df.head(5)"
   ]
  },
  {
   "cell_type": "markdown",
   "metadata": {},
   "source": [
    "**Create the customers entity**"
   ]
  },
  {
   "cell_type": "code",
   "execution_count": 108,
   "metadata": {},
   "outputs": [
    {
     "data": {
      "text/plain": [
       "Entityset: transactions\n",
       "  Entities:\n",
       "    transactions [Rows: 500, Columns: 5]\n",
       "    products [Rows: 5, Columns: 2]\n",
       "    sessions [Rows: 35, Columns: 4]\n",
       "    custmers [Rows: 5, Columns: 2]\n",
       "  Relationships:\n",
       "    transactions.product_id -> products.product_id\n",
       "    transactions.session_id -> sessions.session_id\n",
       "    sessions.customer_id -> custmers.customer_id"
      ]
     },
     "execution_count": 108,
     "metadata": {},
     "output_type": "execute_result"
    }
   ],
   "source": [
    "es.normalize_entity(base_entity_id = 'sessions',\n",
    "                   new_entity_id = 'custmers',\n",
    "                   index = 'customer_id',\n",
    "                   additional_variables = [\"zip_code\"],\n",
    "                   make_time_index = False)"
   ]
  },
  {
   "cell_type": "markdown",
   "metadata": {},
   "source": [
    "## Using the EntitySet"
   ]
  },
  {
   "cell_type": "code",
   "execution_count": 109,
   "metadata": {},
   "outputs": [],
   "source": [
    "feature_matrix, feature_defs = ft.dfs(entityset=es,\n",
    "                                     target_entity = 'products')"
   ]
  },
  {
   "cell_type": "code",
   "execution_count": 110,
   "metadata": {},
   "outputs": [
    {
     "data": {
      "text/html": [
       "<div>\n",
       "<style scoped>\n",
       "    .dataframe tbody tr th:only-of-type {\n",
       "        vertical-align: middle;\n",
       "    }\n",
       "\n",
       "    .dataframe tbody tr th {\n",
       "        vertical-align: top;\n",
       "    }\n",
       "\n",
       "    .dataframe thead th {\n",
       "        text-align: right;\n",
       "    }\n",
       "</style>\n",
       "<table border=\"1\" class=\"dataframe\">\n",
       "  <thead>\n",
       "    <tr style=\"text-align: right;\">\n",
       "      <th></th>\n",
       "      <th>brand</th>\n",
       "      <th>SUM(transactions.amount)</th>\n",
       "      <th>STD(transactions.amount)</th>\n",
       "      <th>MAX(transactions.amount)</th>\n",
       "      <th>SKEW(transactions.amount)</th>\n",
       "      <th>MIN(transactions.amount)</th>\n",
       "      <th>MEAN(transactions.amount)</th>\n",
       "      <th>COUNT(transactions)</th>\n",
       "      <th>NUM_UNIQUE(transactions.session_id)</th>\n",
       "      <th>MODE(transactions.session_id)</th>\n",
       "      <th>...</th>\n",
       "      <th>NUM_UNIQUE(transactions.MONTH(transaction_time))</th>\n",
       "      <th>NUM_UNIQUE(transactions.WEEKDAY(transaction_time))</th>\n",
       "      <th>NUM_UNIQUE(transactions.sessions.device)</th>\n",
       "      <th>NUM_UNIQUE(transactions.sessions.customer_id)</th>\n",
       "      <th>MODE(transactions.DAY(transaction_time))</th>\n",
       "      <th>MODE(transactions.YEAR(transaction_time))</th>\n",
       "      <th>MODE(transactions.MONTH(transaction_time))</th>\n",
       "      <th>MODE(transactions.WEEKDAY(transaction_time))</th>\n",
       "      <th>MODE(transactions.sessions.device)</th>\n",
       "      <th>MODE(transactions.sessions.customer_id)</th>\n",
       "    </tr>\n",
       "    <tr>\n",
       "      <th>product_id</th>\n",
       "      <th></th>\n",
       "      <th></th>\n",
       "      <th></th>\n",
       "      <th></th>\n",
       "      <th></th>\n",
       "      <th></th>\n",
       "      <th></th>\n",
       "      <th></th>\n",
       "      <th></th>\n",
       "      <th></th>\n",
       "      <th></th>\n",
       "      <th></th>\n",
       "      <th></th>\n",
       "      <th></th>\n",
       "      <th></th>\n",
       "      <th></th>\n",
       "      <th></th>\n",
       "      <th></th>\n",
       "      <th></th>\n",
       "      <th></th>\n",
       "      <th></th>\n",
       "    </tr>\n",
       "  </thead>\n",
       "  <tbody>\n",
       "    <tr>\n",
       "      <th>1</th>\n",
       "      <td>B</td>\n",
       "      <td>7046.84</td>\n",
       "      <td>40.232770</td>\n",
       "      <td>148.86</td>\n",
       "      <td>-0.027598</td>\n",
       "      <td>6.29</td>\n",
       "      <td>71.906531</td>\n",
       "      <td>98</td>\n",
       "      <td>31</td>\n",
       "      <td>4</td>\n",
       "      <td>...</td>\n",
       "      <td>1</td>\n",
       "      <td>1</td>\n",
       "      <td>3</td>\n",
       "      <td>5</td>\n",
       "      <td>1</td>\n",
       "      <td>2014</td>\n",
       "      <td>1</td>\n",
       "      <td>2</td>\n",
       "      <td>desktop</td>\n",
       "      <td>2</td>\n",
       "    </tr>\n",
       "    <tr>\n",
       "      <th>2</th>\n",
       "      <td>B</td>\n",
       "      <td>7247.48</td>\n",
       "      <td>39.083334</td>\n",
       "      <td>147.86</td>\n",
       "      <td>0.180324</td>\n",
       "      <td>8.19</td>\n",
       "      <td>75.494583</td>\n",
       "      <td>96</td>\n",
       "      <td>34</td>\n",
       "      <td>19</td>\n",
       "      <td>...</td>\n",
       "      <td>1</td>\n",
       "      <td>1</td>\n",
       "      <td>3</td>\n",
       "      <td>5</td>\n",
       "      <td>1</td>\n",
       "      <td>2014</td>\n",
       "      <td>1</td>\n",
       "      <td>2</td>\n",
       "      <td>desktop</td>\n",
       "      <td>1</td>\n",
       "    </tr>\n",
       "    <tr>\n",
       "      <th>3</th>\n",
       "      <td>C</td>\n",
       "      <td>7916.96</td>\n",
       "      <td>41.647180</td>\n",
       "      <td>149.95</td>\n",
       "      <td>-0.075324</td>\n",
       "      <td>5.81</td>\n",
       "      <td>82.468333</td>\n",
       "      <td>96</td>\n",
       "      <td>35</td>\n",
       "      <td>31</td>\n",
       "      <td>...</td>\n",
       "      <td>1</td>\n",
       "      <td>1</td>\n",
       "      <td>3</td>\n",
       "      <td>5</td>\n",
       "      <td>1</td>\n",
       "      <td>2014</td>\n",
       "      <td>1</td>\n",
       "      <td>2</td>\n",
       "      <td>desktop</td>\n",
       "      <td>1</td>\n",
       "    </tr>\n",
       "    <tr>\n",
       "      <th>4</th>\n",
       "      <td>A</td>\n",
       "      <td>8181.19</td>\n",
       "      <td>44.354276</td>\n",
       "      <td>149.02</td>\n",
       "      <td>0.153199</td>\n",
       "      <td>5.73</td>\n",
       "      <td>75.056789</td>\n",
       "      <td>109</td>\n",
       "      <td>34</td>\n",
       "      <td>30</td>\n",
       "      <td>...</td>\n",
       "      <td>1</td>\n",
       "      <td>1</td>\n",
       "      <td>3</td>\n",
       "      <td>5</td>\n",
       "      <td>1</td>\n",
       "      <td>2014</td>\n",
       "      <td>1</td>\n",
       "      <td>2</td>\n",
       "      <td>desktop</td>\n",
       "      <td>4</td>\n",
       "    </tr>\n",
       "    <tr>\n",
       "      <th>5</th>\n",
       "      <td>C</td>\n",
       "      <td>7498.00</td>\n",
       "      <td>44.686334</td>\n",
       "      <td>149.56</td>\n",
       "      <td>0.087860</td>\n",
       "      <td>5.60</td>\n",
       "      <td>74.237624</td>\n",
       "      <td>101</td>\n",
       "      <td>34</td>\n",
       "      <td>28</td>\n",
       "      <td>...</td>\n",
       "      <td>1</td>\n",
       "      <td>1</td>\n",
       "      <td>3</td>\n",
       "      <td>5</td>\n",
       "      <td>1</td>\n",
       "      <td>2014</td>\n",
       "      <td>1</td>\n",
       "      <td>2</td>\n",
       "      <td>desktop</td>\n",
       "      <td>1</td>\n",
       "    </tr>\n",
       "  </tbody>\n",
       "</table>\n",
       "<p>5 rows × 22 columns</p>\n",
       "</div>"
      ],
      "text/plain": [
       "           brand  SUM(transactions.amount)  STD(transactions.amount)  \\\n",
       "product_id                                                             \n",
       "1              B                   7046.84                 40.232770   \n",
       "2              B                   7247.48                 39.083334   \n",
       "3              C                   7916.96                 41.647180   \n",
       "4              A                   8181.19                 44.354276   \n",
       "5              C                   7498.00                 44.686334   \n",
       "\n",
       "            MAX(transactions.amount)  SKEW(transactions.amount)  \\\n",
       "product_id                                                        \n",
       "1                             148.86                  -0.027598   \n",
       "2                             147.86                   0.180324   \n",
       "3                             149.95                  -0.075324   \n",
       "4                             149.02                   0.153199   \n",
       "5                             149.56                   0.087860   \n",
       "\n",
       "            MIN(transactions.amount)  MEAN(transactions.amount)  \\\n",
       "product_id                                                        \n",
       "1                               6.29                  71.906531   \n",
       "2                               8.19                  75.494583   \n",
       "3                               5.81                  82.468333   \n",
       "4                               5.73                  75.056789   \n",
       "5                               5.60                  74.237624   \n",
       "\n",
       "            COUNT(transactions)  NUM_UNIQUE(transactions.session_id)  \\\n",
       "product_id                                                             \n",
       "1                            98                                   31   \n",
       "2                            96                                   34   \n",
       "3                            96                                   35   \n",
       "4                           109                                   34   \n",
       "5                           101                                   34   \n",
       "\n",
       "            MODE(transactions.session_id)  \\\n",
       "product_id                                  \n",
       "1                                       4   \n",
       "2                                      19   \n",
       "3                                      31   \n",
       "4                                      30   \n",
       "5                                      28   \n",
       "\n",
       "                             ...                     \\\n",
       "product_id                   ...                      \n",
       "1                            ...                      \n",
       "2                            ...                      \n",
       "3                            ...                      \n",
       "4                            ...                      \n",
       "5                            ...                      \n",
       "\n",
       "            NUM_UNIQUE(transactions.MONTH(transaction_time))  \\\n",
       "product_id                                                     \n",
       "1                                                          1   \n",
       "2                                                          1   \n",
       "3                                                          1   \n",
       "4                                                          1   \n",
       "5                                                          1   \n",
       "\n",
       "            NUM_UNIQUE(transactions.WEEKDAY(transaction_time))  \\\n",
       "product_id                                                       \n",
       "1                                                           1    \n",
       "2                                                           1    \n",
       "3                                                           1    \n",
       "4                                                           1    \n",
       "5                                                           1    \n",
       "\n",
       "            NUM_UNIQUE(transactions.sessions.device)  \\\n",
       "product_id                                             \n",
       "1                                                  3   \n",
       "2                                                  3   \n",
       "3                                                  3   \n",
       "4                                                  3   \n",
       "5                                                  3   \n",
       "\n",
       "            NUM_UNIQUE(transactions.sessions.customer_id)  \\\n",
       "product_id                                                  \n",
       "1                                                       5   \n",
       "2                                                       5   \n",
       "3                                                       5   \n",
       "4                                                       5   \n",
       "5                                                       5   \n",
       "\n",
       "            MODE(transactions.DAY(transaction_time))  \\\n",
       "product_id                                             \n",
       "1                                                  1   \n",
       "2                                                  1   \n",
       "3                                                  1   \n",
       "4                                                  1   \n",
       "5                                                  1   \n",
       "\n",
       "            MODE(transactions.YEAR(transaction_time))  \\\n",
       "product_id                                              \n",
       "1                                                2014   \n",
       "2                                                2014   \n",
       "3                                                2014   \n",
       "4                                                2014   \n",
       "5                                                2014   \n",
       "\n",
       "            MODE(transactions.MONTH(transaction_time))  \\\n",
       "product_id                                               \n",
       "1                                                    1   \n",
       "2                                                    1   \n",
       "3                                                    1   \n",
       "4                                                    1   \n",
       "5                                                    1   \n",
       "\n",
       "            MODE(transactions.WEEKDAY(transaction_time))  \\\n",
       "product_id                                                 \n",
       "1                                                      2   \n",
       "2                                                      2   \n",
       "3                                                      2   \n",
       "4                                                      2   \n",
       "5                                                      2   \n",
       "\n",
       "            MODE(transactions.sessions.device)  \\\n",
       "product_id                                       \n",
       "1                                      desktop   \n",
       "2                                      desktop   \n",
       "3                                      desktop   \n",
       "4                                      desktop   \n",
       "5                                      desktop   \n",
       "\n",
       "            MODE(transactions.sessions.customer_id)  \n",
       "product_id                                           \n",
       "1                                                 2  \n",
       "2                                                 1  \n",
       "3                                                 1  \n",
       "4                                                 4  \n",
       "5                                                 1  \n",
       "\n",
       "[5 rows x 22 columns]"
      ]
     },
     "execution_count": 110,
     "metadata": {},
     "output_type": "execute_result"
    }
   ],
   "source": [
    "feature_matrix"
   ]
  },
  {
   "cell_type": "code",
   "execution_count": 111,
   "metadata": {},
   "outputs": [
    {
     "data": {
      "text/plain": [
       "[<Feature: brand>,\n",
       " <Feature: SUM(transactions.amount)>,\n",
       " <Feature: STD(transactions.amount)>,\n",
       " <Feature: MAX(transactions.amount)>,\n",
       " <Feature: SKEW(transactions.amount)>,\n",
       " <Feature: MIN(transactions.amount)>,\n",
       " <Feature: MEAN(transactions.amount)>,\n",
       " <Feature: COUNT(transactions)>,\n",
       " <Feature: NUM_UNIQUE(transactions.session_id)>,\n",
       " <Feature: MODE(transactions.session_id)>,\n",
       " <Feature: NUM_UNIQUE(transactions.DAY(transaction_time))>,\n",
       " <Feature: NUM_UNIQUE(transactions.YEAR(transaction_time))>,\n",
       " <Feature: NUM_UNIQUE(transactions.MONTH(transaction_time))>,\n",
       " <Feature: NUM_UNIQUE(transactions.WEEKDAY(transaction_time))>,\n",
       " <Feature: NUM_UNIQUE(transactions.sessions.device)>,\n",
       " <Feature: NUM_UNIQUE(transactions.sessions.customer_id)>,\n",
       " <Feature: MODE(transactions.DAY(transaction_time))>,\n",
       " <Feature: MODE(transactions.YEAR(transaction_time))>,\n",
       " <Feature: MODE(transactions.MONTH(transaction_time))>,\n",
       " <Feature: MODE(transactions.WEEKDAY(transaction_time))>,\n",
       " <Feature: MODE(transactions.sessions.device)>,\n",
       " <Feature: MODE(transactions.sessions.customer_id)>]"
      ]
     },
     "execution_count": 111,
     "metadata": {},
     "output_type": "execute_result"
    }
   ],
   "source": [
    "feature_defs"
   ]
  }
 ],
 "metadata": {
  "kernelspec": {
   "display_name": "Python 3",
   "language": "python",
   "name": "python3"
  },
  "language_info": {
   "codemirror_mode": {
    "name": "ipython",
    "version": 3
   },
   "file_extension": ".py",
   "mimetype": "text/x-python",
   "name": "python",
   "nbconvert_exporter": "python",
   "pygments_lexer": "ipython3",
   "version": "3.6.6"
  }
 },
 "nbformat": 4,
 "nbformat_minor": 2
}
